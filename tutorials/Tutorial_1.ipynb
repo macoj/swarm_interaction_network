{
 "cells": [
  {
   "cell_type": "markdown",
   "metadata": {},
   "source": [
    "# Towards a Network-based Approach to Analyze Particle Swarm Optimizers\n",
    "\n",
    "Here we are going to create most of the plots in:\n",
    "\n",
    "> Oliveira, Marcos, Carmelo JA Bastos-Filho, and Ronaldo Menezes. \"Towards a network-based approach to analyze particle swarm optimizers.\" Swarm Intelligence (SIS), 2014 IEEE Symposium on. IEEE, 2014. https://doi.org/10.1109/SIS.2014.7011791\n",
    "\n",
    "```tex\n",
    "@inproceedings{oliveira2014towards,\n",
    "  title={Towards a network-based approach to analyze particle swarm optimizers},\n",
    "  author={Oliveira, Marcos and Bastos-Filho, Carmelo JA and Menezes, Ronaldo},\n",
    "  booktitle={Swarm Intelligence (SIS), 2014 IEEE Symposium on},\n",
    "  pages={1--8},\n",
    "  year={2014},\n",
    "  organization={IEEE}\n",
    "}\n",
    "```"
   ]
  },
  {
   "cell_type": "code",
   "execution_count": 1,
   "metadata": {},
   "outputs": [
    {
     "name": "stdout",
     "output_type": "stream",
     "text": [
      "3.9.5 (default, May  4 2021, 03:29:30) \n",
      "[Clang 11.0.0 (clang-1100.0.33.17)]\n"
     ]
    }
   ],
   "source": [
    "import sys; print(sys.version)"
   ]
  },
  {
   "cell_type": "code",
   "execution_count": 2,
   "metadata": {},
   "outputs": [],
   "source": [
    "import os; os.chdir(\"../\")"
   ]
  },
  {
   "cell_type": "code",
   "execution_count": 6,
   "metadata": {},
   "outputs": [],
   "source": [
    "%matplotlib inline\n",
    "%config InlineBackend.figure_format = 'retina'\n",
    "import matplotlib.pyplot as plt\n",
    "from swarm_analyzer import SwarmAnalyzer"
   ]
  },
  {
   "cell_type": "markdown",
   "metadata": {},
   "source": [
    "For that, we create the influence graph of the swarm at the iteration 1000 using a time window of size 1000:"
   ]
  },
  {
   "cell_type": "code",
   "execution_count": 7,
   "metadata": {},
   "outputs": [],
   "source": [
    "filename = './data/global_F06_15'\n",
    "graph = SwarmAnalyzer.create_influence_graph(filename, window_size=1000, calculate_on=1000)"
   ]
  },
  {
   "cell_type": "markdown",
   "metadata": {},
   "source": [
    "Nice, now we have a graph. Let's check the distribution of edges weight and graph strength."
   ]
  },
  {
   "cell_type": "code",
   "execution_count": 8,
   "metadata": {
    "scrolled": false
   },
   "outputs": [
    {
     "data": {
      "image/png": "[encoded data removed]",
      "text/plain": [
       "<Figure size 720x252 with 2 Axes>"
      ]
     },
     "metadata": {
      "image/png": {
       "height": 236,
       "width": 592
      },
      "needs_background": "light"
     },
     "output_type": "display_data"
    }
   ],
   "source": [
    "edge_weights = graph.es[\"weight\"]\n",
    "strength = graph.strength(weights='weight')\n",
    "plt.figure(figsize=(10, 3.5))\n",
    "plt.subplot(1, 2, 1)\n",
    "plt.hist(strength, bins=20, color=\"#7fcdbb\")\n",
    "plt.title(\"Strength\")\n",
    "plt.subplot(1, 2, 2)\n",
    "plt.hist(edge_weights, bins=20, color=\"#7fcdbb\")\n",
    "plt.title(\"Edge weight\")\n",
    "plt.show()"
   ]
  },
  {
   "cell_type": "markdown",
   "metadata": {},
   "source": [
    "This is Fig. 6 in the paper (for global topology)."
   ]
  },
  {
   "cell_type": "code",
   "execution_count": 11,
   "metadata": {},
   "outputs": [],
   "source": [
    "import powerlaw"
   ]
  },
  {
   "cell_type": "code",
   "execution_count": 15,
   "metadata": {},
   "outputs": [
    {
     "ename": "ModuleNotFoundError",
     "evalue": "No module named 'statsmodels'",
     "output_type": "error",
     "traceback": [
      "\u001b[0;31m---------------------------------------------------------------------------\u001b[0m",
      "\u001b[0;31mModuleNotFoundError\u001b[0m                       Traceback (most recent call last)",
      "\u001b[0;32m<ipython-input-15-7ff43b1e11d3>\u001b[0m in \u001b[0;36m<module>\u001b[0;34m\u001b[0m\n\u001b[0;32m----> 1\u001b[0;31m \u001b[0;32mimport\u001b[0m \u001b[0mstatsmodels\u001b[0m\u001b[0;34m.\u001b[0m\u001b[0mapi\u001b[0m \u001b[0;32mas\u001b[0m \u001b[0msm\u001b[0m \u001b[0;31m# recommended import according to the docs\u001b[0m\u001b[0;34m\u001b[0m\u001b[0;34m\u001b[0m\u001b[0m\n\u001b[0m",
      "\u001b[0;31mModuleNotFoundError\u001b[0m: No module named 'statsmodels'"
     ]
    }
   ],
   "source": [
    "import statsmodels.api as sm # recommended import according to the docs\n"
   ]
  },
  {
   "cell_type": "code",
   "execution_count": 12,
   "metadata": {
    "scrolled": true
   },
   "outputs": [
    {
     "name": "stderr",
     "output_type": "stream",
     "text": [
      "Calculating best minimal value for power law fit\n",
      "/usr/local/lib/python3.9/site-packages/powerlaw.py:699: RuntimeWarning: invalid value encountered in true_divide\n",
      "  (CDF_diff**2) /\n",
      "Calculating best minimal value for power law fit\n"
     ]
    }
   ],
   "source": [
    "strength_fit = powerlaw.Fit(strength)\n",
    "edge_weights_fit = powerlaw.Fit(edge_weights)"
   ]
  },
  {
   "cell_type": "code",
   "execution_count": null,
   "metadata": {},
   "outputs": [],
   "source": [
    "import matplotlib.pyplot as plt\n",
    "\n",
    "sample = np.random.uniform(0, 1, 50)\n",
    "ecdf = sm.distributions.ECDF(sample)\n",
    "\n",
    "x = np.linspace(min(sample), max(sample))\n",
    "y = ecdf(x)\n",
    "plt.step(x, y)\n",
    "plt.show()"
   ]
  },
  {
   "cell_type": "code",
   "execution_count": 14,
   "metadata": {},
   "outputs": [
    {
     "data": {
      "text/plain": [
       "[1897.0,\n",
       " 1604.0,\n",
       " 2289.0,\n",
       " 4676.0,\n",
       " 2402.0,\n",
       " 1602.0,\n",
       " 1205.0,\n",
       " 2006.0,\n",
       " 2492.0,\n",
       " 1709.0,\n",
       " 2201.0,\n",
       " 2497.0,\n",
       " 1599.0,\n",
       " 1212.0,\n",
       " 3190.0,\n",
       " 1402.0,\n",
       " 1996.0,\n",
       " 2296.0,\n",
       " 2097.0,\n",
       " 1508.0,\n",
       " 1512.0,\n",
       " 1519.0,\n",
       " 1895.0,\n",
       " 2695.0,\n",
       " 1795.0,\n",
       " 1104.0,\n",
       " 1598.0,\n",
       " 1713.0,\n",
       " 2993.0,\n",
       " 2205.0,\n",
       " 2194.0,\n",
       " 1309.0,\n",
       " 2091.0,\n",
       " 2500.0,\n",
       " 1405.0,\n",
       " 1604.0,\n",
       " 2090.0,\n",
       " 2595.0,\n",
       " 2394.0,\n",
       " 1991.0,\n",
       " 1305.0,\n",
       " 1601.0,\n",
       " 2402.0,\n",
       " 2495.0,\n",
       " 1898.0,\n",
       " 1803.0,\n",
       " 2099.0,\n",
       " 3308.0,\n",
       " 1704.0,\n",
       " 1502.0,\n",
       " 2595.0,\n",
       " 1897.0,\n",
       " 1301.0,\n",
       " 3193.0,\n",
       " 1508.0,\n",
       " 2202.0,\n",
       " 2106.0,\n",
       " 2593.0,\n",
       " 2494.0,\n",
       " 1507.0,\n",
       " 1501.0,\n",
       " 2494.0,\n",
       " 1706.0,\n",
       " 2092.0,\n",
       " 1701.0,\n",
       " 1904.0,\n",
       " 2298.0,\n",
       " 1699.0,\n",
       " 1302.0,\n",
       " 1700.0,\n",
       " 1318.0,\n",
       " 1998.0,\n",
       " 2091.0,\n",
       " 2211.0,\n",
       " 1500.0,\n",
       " 1412.0,\n",
       " 2204.0,\n",
       " 1699.0,\n",
       " 2098.0,\n",
       " 1409.0,\n",
       " 2099.0,\n",
       " 1204.0,\n",
       " 2602.0,\n",
       " 1600.0,\n",
       " 1899.0,\n",
       " 1704.0,\n",
       " 1301.0,\n",
       " 1994.0,\n",
       " 3290.0,\n",
       " 1210.0,\n",
       " 1697.0,\n",
       " 2093.0,\n",
       " 1610.0,\n",
       " 3184.0,\n",
       " 1901.0,\n",
       " 3489.0,\n",
       " 1699.0,\n",
       " 2791.0,\n",
       " 1503.0,\n",
       " 2198.0]"
      ]
     },
     "execution_count": 14,
     "metadata": {},
     "output_type": "execute_result"
    }
   ],
   "source": [
    "strength"
   ]
  },
  {
   "cell_type": "code",
   "execution_count": 13,
   "metadata": {
    "scrolled": true
   },
   "outputs": [
    {
     "data": {
      "image/png": "[encoded data removed]",
      "text/plain": [
       "<Figure size 720x252 with 2 Axes>"
      ]
     },
     "metadata": {
      "image/png": {
       "height": 236,
       "width": 595
      },
      "needs_background": "light"
     },
     "output_type": "display_data"
    }
   ],
   "source": [
    "plt.figure(figsize=(10, 3.5))\n",
    "ax = plt.subplot(1, 2, 1)\n",
    "strength_fit.plot_ccdf(ax=ax, marker=\".\", ms=4, original_data=True, lw=2, color=\"#e41a1c\")\n",
    "plt.xscale(\"linear\")\n",
    "plt.yscale(\"linear\")\n",
    "plt.title(\"Strength\")\n",
    "ax = plt.subplot(1, 2, 2)\n",
    "edge_weights_fit.plot_ccdf(ax=ax, marker=\".\", ms=4, original_data=True, lw=2, color=\"#e41a1c\")\n",
    "plt.xscale(\"linear\")\n",
    "plt.yscale(\"linear\")\n",
    "plt.title(\"Edge weight\")\n",
    "plt.show()"
   ]
  },
  {
   "cell_type": "markdown",
   "metadata": {},
   "source": [
    "This is Fig. 7 in the paper (for global topology)."
   ]
  },
  {
   "cell_type": "markdown",
   "metadata": {},
   "source": [
    "# Destroying graphs, constructing plots\n",
    "Time to analyze how this graph is destroyed as we remove its edges."
   ]
  },
  {
   "cell_type": "code",
   "execution_count": null,
   "metadata": {},
   "outputs": [],
   "source": [
    "filename = './data/ring_F06_15'\n",
    "window_size = 1000\n",
    "calculate_on = 1000\n",
    "giant_component_destruction_curve_count = SwarmAnalyzer.get_giant_component_destruction_curves(filename, window_size, calculate_on=calculate_on, count='components')\n",
    "giant_component_destruction_curve_size = SwarmAnalyzer.get_giant_component_destruction_curves(filename, window_size, calculate_on=calculate_on, count='size')"
   ]
  },
  {
   "cell_type": "code",
   "execution_count": null,
   "metadata": {},
   "outputs": [],
   "source": [
    "normalize = 2.*window_size\n",
    "plt.figure(figsize=(10, 3.5))\n",
    "plt.subplot(1, 2, 1)\n",
    "plt.plot(giant_component_destruction_curve_count[0]['x']/normalize, giant_component_destruction_curve_count[0]['y'], lw=2, color=\"#e41a1c\")\n",
    "plt.title(\"Number of components\")\n",
    "plt.xlim(0, 1)\n",
    "ax = plt.subplot(1, 2, 2)\n",
    "plt.plot(giant_component_destruction_curve_size[0]['x']/normalize, giant_component_destruction_curve_size[0]['y'], lw=2., color=\"#e41a1c\")\n",
    "plt.title(\"Giant component size\")\n",
    "plt.xlim(0, 1)\n",
    "plt.show()"
   ]
  },
  {
   "cell_type": "markdown",
   "metadata": {},
   "source": [
    "This is Fig. 9 in the paper (for global topology)."
   ]
  }
 ],
 "metadata": {
  "kernelspec": {
   "display_name": "Python 3",
   "language": "python",
   "name": "python3"
  },
  "language_info": {
   "codemirror_mode": {
    "name": "ipython",
    "version": 3
   },
   "file_extension": ".py",
   "mimetype": "text/x-python",
   "name": "python",
   "nbconvert_exporter": "python",
   "pygments_lexer": "ipython3",
   "version": "3.9.5"
  },
  "toc": {
   "colors": {
    "hover_highlight": "#DAA520",
    "running_highlight": "#FF0000",
    "selected_highlight": "#FFD700"
   },
   "moveMenuLeft": true,
   "nav_menu": {
    "height": "63px",
    "width": "252px"
   },
   "navigate_menu": true,
   "number_sections": true,
   "sideBar": true,
   "threshold": 4,
   "toc_cell": false,
   "toc_section_display": "block",
   "toc_window_display": false
  }
 },
 "nbformat": 4,
 "nbformat_minor": 2
}
